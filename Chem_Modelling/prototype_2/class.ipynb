{
 "cells": [
  {
   "cell_type": "code",
   "execution_count": 1,
   "metadata": {},
   "outputs": [],
   "source": [
    "from rdkit import Chem\n",
    "from rdkit.Chem import AllChem\n",
    "from rdkit.Chem import Draw\n",
    "import pubchempy as pcp\n",
    "\n",
    "compound_list = []\n",
    "\n",
    "inp = input(\"Start? (Y/N):\")\n",
    "inp = inp.lower()\n",
    "\n",
    "while inp != \"n\":\n",
    "    print(\"goodAfternooN!\")\n",
    "\n",
    "class datascraper:\n",
    "\n",
    "    def __init__(self):\n",
    "        self.molecule = None    \n",
    "\n",
    "    def takeInput(self):\n",
    "        user_molecule = input(\"Enter molecule name: \")\n",
    "        self.molecule = user_molecule.lower()\n",
    "   \n",
    "    def datascraping(self):\n",
    "        print(\"hello\")\n",
    "        \n",
    "\n",
    "\n",
    "\n",
    "\n"
   ]
  }
 ],
 "metadata": {
  "kernelspec": {
   "display_name": "myenv",
   "language": "python",
   "name": "python3"
  },
  "language_info": {
   "codemirror_mode": {
    "name": "ipython",
    "version": 3
   },
   "file_extension": ".py",
   "mimetype": "text/x-python",
   "name": "python",
   "nbconvert_exporter": "python",
   "pygments_lexer": "ipython3",
   "version": "3.11.11"
  }
 },
 "nbformat": 4,
 "nbformat_minor": 2
}
