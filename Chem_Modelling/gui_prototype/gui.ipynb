{
 "cells": [
  {
   "cell_type": "code",
   "execution_count": 2,
   "metadata": {},
   "outputs": [],
   "source": [
    "import tkinter as tk\n",
    "\n",
    "# Create a window object\n",
    "root = tk.Tk()\n",
    "\n",
    "# External window features\n",
    "# Size of the window (rect) + title \n",
    "root.geometry('800x500')\n",
    "root.title('Prolycule')\n",
    "\n",
    "label = tk.Label(root, text='PROLYCULE', font=('Courier', 64))\n",
    "label.pack(padx= 20, pady=20)\n",
    "\n",
    "# Create box for text + entry (not used)\n",
    "'''\n",
    "text = tk.Text(root, font=('Courier', 16))\n",
    "text.pack()\n",
    "myentry = tk.Entry(root)\n",
    "myentry.pack()\n",
    "'''\n",
    "\n",
    "# Button\n",
    "button = tk.Button(root, text='START', font=('Courier', 16))\n",
    "button.pack(padx=10, pady=10)\n",
    "\n",
    "tk.Checkbutton(root)\n",
    "\n",
    "# Last \n",
    "root.mainloop()"
   ]
  }
 ],
 "metadata": {
  "kernelspec": {
   "display_name": "myenv",
   "language": "python",
   "name": "python3"
  },
  "language_info": {
   "codemirror_mode": {
    "name": "ipython",
    "version": 3
   },
   "file_extension": ".py",
   "mimetype": "text/x-python",
   "name": "python",
   "nbconvert_exporter": "python",
   "pygments_lexer": "ipython3",
   "version": "3.11.11"
  }
 },
 "nbformat": 4,
 "nbformat_minor": 2
}
