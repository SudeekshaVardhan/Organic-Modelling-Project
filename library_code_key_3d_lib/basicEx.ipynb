{
 "cells": [
  {
   "cell_type": "code",
   "execution_count": null,
   "metadata": {},
   "outputs": [
    {
     "ename": "",
     "evalue": "",
     "output_type": "error",
     "traceback": [
      "\u001b[1;31mThe Kernel crashed while executing code in the current cell or a previous cell. \n",
      "\u001b[1;31mPlease review the code in the cell(s) to identify a possible cause of the failure. \n",
      "\u001b[1;31mClick <a href='https://aka.ms/vscodeJupyterKernelCrash'>here</a> for more info. \n",
      "\u001b[1;31mView Jupyter <a href='command:jupyter.viewOutput'>log</a> for further details."
     ]
    }
   ],
   "source": [
    "# Necessary Libraries\n",
    "import vtkmodules.vtkInteractionStyle\n",
    "import vtkmodules.vtkRenderingOpenGL2\n",
    "from vtkmodules.vtkCommonColor import vtkNamedColors\n",
    "from vtkmodules.vtkFiltersSources import vtkSphereSource\n",
    "from vtkmodules.vtkFiltersSources import vtkConeSource\n",
    "from vtkmodules.vtkRenderingCore import vtkActor, vtkPolyDataMapper, vtkRenderWindow, vtkRenderer\n",
    "\n",
    "# Create an instance of named colors in order to select colors for bg and object\n",
    "colors = vtkNamedColors()\n",
    "\n",
    "# Create and instance of VTK cone (pre-coded module)\n",
    "def newCone(height, radius, res):\n",
    "    cone = vtkConeSource()\n",
    "    cone.SetHeight(height)\n",
    "    cone.SetRadius(radius)\n",
    "    cone.SetResolution(res)\n",
    "    return cone\n",
    "\n",
    "cone = newCone(2.0, 1.0, 10) # New cone instance\n",
    "\n",
    "# Mapper process object needed to map polygonal data into graphics\n",
    "# Output of the cone source connects to the input of the mapper\n",
    "# 3D Graphics - Output shape should connect to the input of the mapper to be displayed\n",
    "\n",
    "coneMapper = vtkPolyDataMapper()\n",
    "coneMapper.SetInputConnection(cone.GetOutputPort())\n",
    "\n",
    "# Actor renders the mapper's graphic primitives\n",
    "# Also includes an internal transformation matrix\n",
    "\n",
    "coneActor = vtkActor()\n",
    "coneActor.SetMapper(coneMapper)\n",
    "coneActor.GetProperty().SetColor(colors.GetColor3d('MistyRose'))\n",
    "\n",
    "# Create the renderer and assign the actors to it\n",
    "# Renderer - A part of the window on the screen and draws actors it has (also set bg here)\n",
    "\n",
    "ren1 = vtkRenderer()\n",
    "ren1.AddActor(coneActor)\n",
    "ren1.SetBackground(colors.GetColor3d('MidnightBlue'))\n",
    "\n",
    "# Create the renderer in a new window\n",
    "renWin = vtkRenderWindow()\n",
    "renWin.AddRenderer(ren1)\n",
    "renWin.SetSize(300,300)\n",
    "\n",
    "for i in range(0, 360):\n",
    "    # Render image\n",
    "    renWin.Render()\n",
    "    ren1.GetActiveCamera().Azimuth(1)\n",
    "\n",
    "# NOTE: RUN IN THE PYTHON FILE NOT A KERNEL"
   ]
  }
 ],
 "metadata": {
  "kernelspec": {
   "display_name": "myenv",
   "language": "python",
   "name": "python3"
  },
  "language_info": {
   "codemirror_mode": {
    "name": "ipython",
    "version": 3
   },
   "file_extension": ".py",
   "mimetype": "text/x-python",
   "name": "python",
   "nbconvert_exporter": "python",
   "pygments_lexer": "ipython3",
   "version": "3.11.11"
  }
 },
 "nbformat": 4,
 "nbformat_minor": 2
}
